{
 "cells": [
  {
   "cell_type": "markdown",
   "id": "2f0ff1b7",
   "metadata": {},
   "source": [
    "# Generating Tests\n",
    "\n",
    "Here we will be showing how we generate test cases with a given method\n",
    "\n",
    "Given a loss function, an estimation method, $p_F$, and a fixed number of loss function calls, we want to know what the estimated $p_F$ was. So we'll store each of our experiments in a table with the following columns:\n",
    "\n",
    "<code>gType</code>, <code>gCalls</code>, <code>method</code>, <code>dim</code>, <code>pF</code>, and <code>pFhat</code>.\n",
    "\n",
    "In general, we want our method to be a function\n",
    "<code>method : g, gCalls, alpha -> pFhat </code>"
   ]
  },
  {
   "cell_type": "code",
   "execution_count": 4,
   "id": "89ac2c6a",
   "metadata": {},
   "outputs": [],
   "source": [
    "from loss import *\n",
    "from prob import *"
   ]
  },
  {
   "cell_type": "markdown",
   "id": "9be79ef2",
   "metadata": {},
   "source": [
    "Let's implement a simple Monte Carlo to estimate $\\hat{p}_F$. (this is found in <code>code/method.py</code>)"
   ]
  },
  {
   "cell_type": "code",
   "execution_count": 5,
   "id": "cebb6a13",
   "metadata": {},
   "outputs": [],
   "source": [
    "def mc(g : Loss, gCalls : int, alpha : float) -> float:\n",
    "    fails = 0\n",
    "    for i in range(0, gCalls):\n",
    "        x = np.array(np.random.normal(0.0, 1.0, g.n))\n",
    "        if (g.compute(x.T) > alpha): \n",
    "            fails += 1\n",
    "    return float(fails) / float(gCalls)"
   ]
  },
  {
   "cell_type": "markdown",
   "id": "e357209e",
   "metadata": {},
   "source": [
    "Let's test <code>mc</code> on a Brownian loss function."
   ]
  },
  {
   "cell_type": "code",
   "execution_count": 31,
   "id": "dda45101",
   "metadata": {},
   "outputs": [
    {
     "name": "stdout",
     "output_type": "stream",
     "text": [
      "alpha=1.193965451712294\n"
     ]
    }
   ],
   "source": [
    "pF = 0.1\n",
    "g = NewBrownian(3)\n",
    "alpha = new_brown_alpha(g, pF)\n",
    "print(f\"alpha={alpha}\")"
   ]
  },
  {
   "cell_type": "code",
   "execution_count": 32,
   "id": "1f0bbee4",
   "metadata": {},
   "outputs": [
    {
     "name": "stdout",
     "output_type": "stream",
     "text": [
      "pFhat from mc = 0.096\n"
     ]
    }
   ],
   "source": [
    "gCalls = 10000\n",
    "pFhat = mc(g, gCalls, alpha)\n",
    "print(f\"pFhat from mc = {pFhat}\")"
   ]
  }
 ],
 "metadata": {
  "kernelspec": {
   "display_name": "Python 3",
   "language": "python",
   "name": "python3"
  },
  "language_info": {
   "codemirror_mode": {
    "name": "ipython",
    "version": 3
   },
   "file_extension": ".py",
   "mimetype": "text/x-python",
   "name": "python",
   "nbconvert_exporter": "python",
   "pygments_lexer": "ipython3",
   "version": "3.9.1"
  }
 },
 "nbformat": 4,
 "nbformat_minor": 5
}
