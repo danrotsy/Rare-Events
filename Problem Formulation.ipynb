{
 "cells": [
  {
   "cell_type": "markdown",
   "id": "a94b6e65",
   "metadata": {},
   "source": [
    "# Problem Formulation\n",
    "\n",
    "Consider a *loss function* $g: \\mathbb{R}^d \\to \\mathbb{R}$. We say that an event $x \\in \\mathbb{R}^d$ is a *failure* if $g(x)$ is greater than the *critical threshold* $\\alpha$. \n",
    "\n",
    "The set of all $x \\in \\mathbb{R}^d$ for which $X$ is a *failure* is known as the *failure domain*\n",
    "$$F = \\{ X \\in \\mathbb{R}^d : g(X) > \\alpha \\} \\subset \\mathbb{R}^d.$$\n",
    "\n",
    "If $X$ is sampled from a distribution $\\pi$, then the *failure probability* is\n",
    "\n",
    "$$p_F := \\Pr(X \\in F) =  \\int_F \\pi(x) dx $$\n",
    "\n",
    "In practical applications, it is usually the case that\n",
    "- $\\pi(x) = \\mathcal{N}(0,1)$, \n",
    "- $g(x)$ is expensive to compute,\n",
    "- $p_F << 1$ ($p_F \\sim 10^{-2}, 10^{-9}$), and\n",
    "- $d >> 1$ (up to $10^3$).\n",
    "\n",
    "We want to minimize the computations of $g$ necessary to determine $p_F$ accurately for a given $\\alpha$. Since $p_F$ is very small, we will use the *coefficient of variation* \n",
    "$$\\delta = \\frac{\\sigma[\\hat{p}_F]}{\\mathbb{E}[\\hat{p}_F]}$$\n",
    "as our measure of accuracy."
   ]
  },
  {
   "cell_type": "code",
   "execution_count": 1,
   "id": "ee37b34e",
   "metadata": {},
   "outputs": [
    {
     "data": {
      "text/html": [
       "   <div id=\"kfdz73\"></div>\n",
       "   <script type=\"text/javascript\" data-lets-plot-script=\"library\">\n",
       "       if(!window.letsPlotCallQueue) {\n",
       "           window.letsPlotCallQueue = [];\n",
       "       }; \n",
       "       window.letsPlotCall = function(f) {\n",
       "           window.letsPlotCallQueue.push(f);\n",
       "       };\n",
       "       (function() {\n",
       "           var script = document.createElement(\"script\");\n",
       "           script.type = \"text/javascript\";\n",
       "           script.src = \"https://cdnjs.cloudflare.com/ajax/libs/lets-plot/2.0.2/lets-plot.min.js\";\n",
       "           script.onload = function() {\n",
       "               window.letsPlotCall = function(f) {f();};\n",
       "               window.letsPlotCallQueue.forEach(function(f) {f();});\n",
       "               window.letsPlotCallQueue = [];\n",
       "               \n",
       "               \n",
       "           };\n",
       "           script.onerror = function(event) {\n",
       "               window.letsPlotCall = function(f) {};\n",
       "               window.letsPlotCallQueue = [];\n",
       "               var div = document.createElement(\"div\");\n",
       "               div.style.color = 'darkred';\n",
       "               div.textContent = 'Error loading Lets-Plot JS';\n",
       "               document.getElementById(\"kfdz73\").appendChild(div);\n",
       "           };\n",
       "           var e = document.getElementById(\"kfdz73\");\n",
       "           e.appendChild(script);\n",
       "       })();\n",
       "   </script>"
      ]
     },
     "metadata": {},
     "output_type": "display_data"
    }
   ],
   "source": [
    "%use krangl, lets-plot"
   ]
  },
  {
   "cell_type": "markdown",
   "id": "3b76dfa1",
   "metadata": {},
   "source": [
    "## Sandbox Loss Functions\n",
    "\n",
    "We will use the following $g$, which are easy to compute, in our analysis:\n",
    "- (*Linear*) $g(x) = \\sum_{i=1}^d a_i x_i$,\n",
    "- (*Quadratic*) $g(x) = \\sum_{i=1}^d a_i x_i + \\sum_{i,j = 1}^d b_{ij} x_i x_j$, and\n",
    "- (*Brownian*) $g(x) = \\max_k B_{t_k}$ where \n",
    "    - $0 = t_0 < \\cdots < t_d = T$ for some interval $T$, and\n",
    "    - $B_{t_k} = \\sum_{i=1}^d \\sqrt{t_i - t_{i-1}} X_i$.\n",
    "    \n",
    "Let's look at $\\delta$ as a function of $\\log p_F$ for Monte Carlo. We'll use the Brownian loss function because it is the fastest to run.\n",
    "\n",
    "*Note:* The Brownian loss function is the fastest to run because it doesn't have to sample itself to determine the best $\\alpha$. In the Brownian case, $p_F$ and $\\alpha$ are related by\n",
    "$$p_F = 2\\big (1 - \\Phi(\\tfrac{\\alpha}{\\sqrt{T}}) \\big)$$\n",
    "where $\\Phi$ is the standard normal CDF."
   ]
  },
  {
   "cell_type": "code",
   "execution_count": 14,
   "id": "d251374e",
   "metadata": {},
   "outputs": [
    {
     "data": {
      "text/html": [
       "<html><body><table><tr><th style=\"text-align:left\">methodType</th><th style=\"text-align:left\">gType</th><th style=\"text-align:left\">gCalls</th><th style=\"text-align:left\">dim</th><th style=\"text-align:left\">pF</th><th style=\"text-align:left\">pFHat</th></tr><tr><td style=\"text-align:left\" title=\"MC\">MC</td><td style=\"text-align:left\" title=\"Brownian\">Brownian</td><td style=\"text-align:left\" title=\"100000\">100000</td><td style=\"text-align:left\" title=\"10\">10</td><td style=\"text-align:left\" title=\"0.1\">0.1</td><td style=\"text-align:left\" title=\"0.06782932170678294\">0.06782932170678294</td></tr><tr><td style=\"text-align:left\" title=\"MC\">MC</td><td style=\"text-align:left\" title=\"Brownian\">Brownian</td><td style=\"text-align:left\" title=\"100000\">100000</td><td style=\"text-align:left\" title=\"10\">10</td><td style=\"text-align:left\" title=\"0.1\">0.1</td><td style=\"text-align:left\" title=\"0.07054929450705492\">0.07054929450705492</td></tr><tr><td style=\"text-align:left\" title=\"MC\">MC</td><td style=\"text-align:left\" title=\"Brownian\">Brownian</td><td style=\"text-align:left\" title=\"100000\">100000</td><td style=\"text-align:left\" title=\"10\">10</td><td style=\"text-align:left\" title=\"0.1\">0.1</td><td style=\"text-align:left\" title=\"0.07181928180718193\">0.07181928180718193</td></tr><tr><td style=\"text-align:left\" title=\"MC\">MC</td><td style=\"text-align:left\" title=\"Brownian\">Brownian</td><td style=\"text-align:left\" title=\"100000\">100000</td><td style=\"text-align:left\" title=\"10\">10</td><td style=\"text-align:left\" title=\"0.1\">0.1</td><td style=\"text-align:left\" title=\"0.06835931640683593\">0.06835931640683593</td></tr><tr><td style=\"text-align:left\" title=\"MC\">MC</td><td style=\"text-align:left\" title=\"Brownian\">Brownian</td><td style=\"text-align:left\" title=\"100000\">100000</td><td style=\"text-align:left\" title=\"10\">10</td><td style=\"text-align:left\" title=\"0.1\">0.1</td><td style=\"text-align:left\" title=\"0.056859431405685945\">0.056859431405685945</td></tr></table></body></html>"
      ]
     },
     "execution_count": 14,
     "metadata": {},
     "output_type": "execute_result"
    }
   ],
   "source": [
    "var example = DataFrame.readCSV(\"test.csv\").filter { it[\"methodType\"] eq \"MC\" }\n",
    "example.head()"
   ]
  },
  {
   "cell_type": "markdown",
   "id": "51fd0946",
   "metadata": {},
   "source": [
    "Let's plot $\\log p_F$ against $\\delta$ for the Monte Carlo in the Brownian case using this data."
   ]
  },
  {
   "cell_type": "code",
   "execution_count": 16,
   "id": "03f44274",
   "metadata": {},
   "outputs": [
    {
     "data": {
      "text/html": [
       "   <div id=\"VA2Wjt\"></div>\n",
       "   <script type=\"text/javascript\" data-lets-plot-script=\"plot\">\n",
       "       (function() {\n",
       "           var plotSpec={\n",
       "'mapping':{\n",
       "'x':\"logpF\",\n",
       "'y':\"delta\"\n",
       "},\n",
       "'data':{\n",
       "'delta':[0.6289257862125782,0.6785779870674218,0.5529034027995858,0.4036383890610914,0.36067326707955105,0.25864775664998474,0.17896729586287322,0.19168299957856472,0.12179865597134513,0.08872954362782816,0.10856788881300906,0.0821155293524164,0.05631420994800832,0.07087841812948177,0.05252034721585146,0.05177147170899435,0.03273684781697942,0.05619460571443545,0.04225523565741625,0.03956894529508399,0.04668049719535692],\n",
       "'logpF':[-5.0,-4.8,-4.6,-4.4,-4.2,-4.0,-3.8,-3.6,-3.4,-3.2,-3.0,-2.8,-2.6,-2.4,-2.2,-2.0,-1.8,-1.6,-1.4,-1.2,-1.0]\n",
       "},\n",
       "'kind':\"plot\",\n",
       "'scales':[],\n",
       "'layers':[{\n",
       "'mapping':{\n",
       "},\n",
       "'stat':\"identity\",\n",
       "'data':{\n",
       "},\n",
       "'position':\"identity\",\n",
       "'geom':\"line\"\n",
       "}]\n",
       "};\n",
       "           var plotContainer = document.getElementById(\"VA2Wjt\");\n",
       "           window.letsPlotCall(function() {{\n",
       "               LetsPlot.buildPlotFromProcessedSpecs(plotSpec, -1, -1, plotContainer);\n",
       "           }});\n",
       "       })();    \n",
       "   </script>"
      ]
     },
     "execution_count": 16,
     "metadata": {},
     "output_type": "execute_result"
    }
   ],
   "source": [
    "val pFList = example[\"pF\"]\n",
    "    .toDoubles()\n",
    "    .associateBy { it }\n",
    "    .keys\n",
    "    .toList()\n",
    "    .sortedBy { it }\n",
    "val deltaList = pFList\n",
    "    .map { pF ->\n",
    "        example\n",
    "            .filter { it[\"pF\"] eq pF!! }[\"pFHat\"]\n",
    "            .sd()!! / pF!!\n",
    "    }\n",
    "val summary = mapOf<String, List<*>>(\n",
    "    \"logpF\" to pFList.map { log10(it!!) },\n",
    "    \"delta\" to deltaList\n",
    ")\n",
    "\n",
    "val p = letsPlot(summary) { \n",
    "        x=\"logpF\"\n",
    "        y=\"delta\"\n",
    "    }\n",
    "\n",
    "p + geomLine()"
   ]
  },
  {
   "cell_type": "code",
   "execution_count": null,
   "id": "e33405d4",
   "metadata": {},
   "outputs": [],
   "source": []
  }
 ],
 "metadata": {
  "kernelspec": {
   "display_name": "Kotlin",
   "language": "kotlin",
   "name": "kotlin"
  },
  "language_info": {
   "codemirror_mode": "text/x-kotlin",
   "file_extension": ".kt",
   "mimetype": "text/x-kotlin",
   "name": "kotlin",
   "nbconvert_exporter": "",
   "pygments_lexer": "kotlin",
   "version": "1.5.30-dev-598"
  }
 },
 "nbformat": 4,
 "nbformat_minor": 5
}
