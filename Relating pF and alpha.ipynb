{
 "cells": [
  {
   "cell_type": "markdown",
   "id": "5b056327",
   "metadata": {},
   "source": [
    "# Relating $p_F$ and $\\alpha$"
   ]
  },
  {
   "cell_type": "markdown",
   "id": "da099895",
   "metadata": {},
   "source": [
    "## The Linear Case\n",
    "\n",
    "This is already done for the linear case.\n",
    "\n",
    "$$p_F = 1 - \\Phi(\\alpha  / |a|)$$"
   ]
  },
  {
   "cell_type": "markdown",
   "id": "5241a34b",
   "metadata": {},
   "source": [
    "## The Brownian Case\n",
    "\n",
    "### The Problem\n",
    "\n",
    "In the Brownian case where $g(x) = \\max_k (B x)_k$, we know that\n",
    "\n",
    "$$p_F = 1 - \\Phi_{\\vec{0}, B B^T} (\\vec{\\alpha})$$\n",
    "\n",
    "where $\\Phi_{\\vec{0}, B B^T}$ is the multivariate *joint* CDF with mean 0 and covariance $B B^T$ and $\\vec{\\alpha} = (\\alpha)_{i=1}^K$. The joint multivariate CDF takes in a vector $\\vec{v}$ and calculates the probability that $X \\sim \\mathcal{N}(\\vec{0}, B B^T)$ has any component $X_k > v_k$. The multivariate joint CDF takes a long time to compute, especially in high dimensions.\n",
    "### A new Brownian loss\n",
    "\n",
    "Let's let $\\{ X_i \\sim \\mathcal{N}(0, \\sigma_i^2)\\}_{i=1}^k$ be independent random variables. Define \n",
    "$$g(x) = \\max_{i} x_i.$$\n",
    "Then\n",
    "$$p_F = 1 - \\prod_{i=1}^k \\Phi((\\alpha) / \\sigma_i).$$\n",
    "Since $p_F$ will be very small, we will use $\\log$ to maintain numerical stability. We have\n",
    "\n",
    "$$\\log (1 - p_F) = \\sum_{i=1}^k \\log \\Phi((\\alpha) / \\sigma_i)$$\n",
    "\n",
    "so we can solve for $\\alpha$ using Newton's method. Also, since $\\log ( 1 - p_F) \\approx - p_F$, we can instead solve for\n",
    "$$p_F = - \\sum_{i=1}^k \\log \\Phi(\\alpha / \\sigma_i).$$\n",
    "\n",
    "The derivative can be simplified as well since $\\Phi(\\alpha / \\sigma_i)$ will be very close to one for small $p_F$, and $\\log \\Phi(\\alpha / \\sigma_i)$ will be about 0.\n",
    "\n",
    "$$- \\frac{d}{d \\alpha} \\sum_{i=1}^k \\log \\Phi(\\alpha / \\sigma_i) = \\sum_{i=1}^k \\frac{\\rho(\\alpha / \\sigma_i)}{\\sigma_i \\Phi(\\alpha/ \\sigma_i)} = \\sum_{i=1}^k e^{\\log \\rho(\\alpha / \\sigma_i) - \\log \\Phi(\\alpha / \\sigma_i)} / \\sigma_i \\approx \\sum_{i=1}^k \\frac{\\rho(\\alpha / \\sigma_i)}{\\sigma_i}$$"
   ]
  },
  {
   "cell_type": "markdown",
   "id": "22360830",
   "metadata": {},
   "source": [
    "### New Brownian Implementation\n",
    "\n",
    "Let's implement this new loss function, and show that the approximate relation between $p_F$ and $\\alpha$ is very accurate."
   ]
  },
  {
   "cell_type": "code",
   "execution_count": 8,
   "id": "94b2bf28",
   "metadata": {},
   "outputs": [],
   "source": [
    "import numpy as np\n",
    "from loss import *"
   ]
  },
  {
   "cell_type": "code",
   "execution_count": 9,
   "id": "04efb8c5",
   "metadata": {},
   "outputs": [],
   "source": [
    "class NewBrownian(Loss):\n",
    "    def __init__(self, n : int):\n",
    "        self.b = [np.random.uniform() for i in range(0, n)]\n",
    "        self.n = n\n",
    "    def compute(self, x : np.array) -> float:\n",
    "        x = list(x)\n",
    "        return max(list(map(\n",
    "            lambda i : self.b[i] * x[i],\n",
    "            range(0, self.n)\n",
    "        )))\n",
    "    def __str__(self):\n",
    "        return \"New Brownian\""
   ]
  },
  {
   "cell_type": "code",
   "execution_count": 10,
   "id": "d4fe4fb3",
   "metadata": {},
   "outputs": [],
   "source": [
    "nb = NewBrownian(3)"
   ]
  },
  {
   "cell_type": "code",
   "execution_count": 11,
   "id": "fa0e263e",
   "metadata": {},
   "outputs": [
    {
     "data": {
      "text/plain": [
       "[0.6746852326701887, 0.6942067287999607, 0.8941426802466219]"
      ]
     },
     "execution_count": 11,
     "metadata": {},
     "output_type": "execute_result"
    }
   ],
   "source": [
    "nb.b"
   ]
  },
  {
   "cell_type": "code",
   "execution_count": 12,
   "id": "71a4bda2",
   "metadata": {},
   "outputs": [
    {
     "data": {
      "text/plain": [
       "2.6824280407398655"
      ]
     },
     "execution_count": 12,
     "metadata": {},
     "output_type": "execute_result"
    }
   ],
   "source": [
    "nb.compute(np.array([1,2,3]))"
   ]
  },
  {
   "cell_type": "code",
   "execution_count": 14,
   "id": "f640e138",
   "metadata": {},
   "outputs": [],
   "source": [
    "from scipy.stats import norm\n",
    "from math import log"
   ]
  },
  {
   "cell_type": "code",
   "execution_count": 22,
   "id": "537833c8",
   "metadata": {},
   "outputs": [],
   "source": [
    "def brown_pF(g : NewBrownian, alpha: float) -> float:\n",
    "    # only works for small p_F\n",
    "    return -sum(list(map(\n",
    "        lambda sigma_i: log(norm.cdf(alpha / sigma_i)),\n",
    "        g.b\n",
    "    )))"
   ]
  },
  {
   "cell_type": "code",
   "execution_count": 24,
   "id": "adc48e55",
   "metadata": {},
   "outputs": [
    {
     "data": {
      "text/plain": [
       "1.1227116743798745e-08"
      ]
     },
     "execution_count": 24,
     "metadata": {},
     "output_type": "execute_result"
    }
   ],
   "source": [
    "brown_pF(nb, 5)"
   ]
  },
  {
   "cell_type": "code",
   "execution_count": 25,
   "id": "aea77110",
   "metadata": {},
   "outputs": [],
   "source": [
    "from scipy import optimize"
   ]
  },
  {
   "cell_type": "code",
   "execution_count": 32,
   "id": "19169504",
   "metadata": {},
   "outputs": [],
   "source": [
    "def brown_alpha(g: NewBrownian, pF: float) -> float:\n",
    "    \n",
    "    # only works for small p_F\n",
    "    \n",
    "    def fprime(alpha): \n",
    "        return -sum(list(map(\n",
    "            lambda sigma_i : \n",
    "                norm.pdf(alpha/sigma_i) / sigma_i,\n",
    "            g.b\n",
    "        )))\n",
    "\n",
    "    def f(alpha):\n",
    "        return (brown_pF(g, alpha) - pF)\n",
    "    \n",
    "    return optimize.newton(f, 0, fprime)"
   ]
  },
  {
   "cell_type": "code",
   "execution_count": 33,
   "id": "7f9cdbf5",
   "metadata": {},
   "outputs": [
    {
     "data": {
      "text/plain": [
       "5.000000000096113"
      ]
     },
     "execution_count": 33,
     "metadata": {},
     "output_type": "execute_result"
    }
   ],
   "source": [
    "brown_alpha(nb, 1.1227116743798745e-08)"
   ]
  }
 ],
 "metadata": {
  "kernelspec": {
   "display_name": "Python 3",
   "language": "python",
   "name": "python3"
  },
  "language_info": {
   "codemirror_mode": {
    "name": "ipython",
    "version": 3
   },
   "file_extension": ".py",
   "mimetype": "text/x-python",
   "name": "python",
   "nbconvert_exporter": "python",
   "pygments_lexer": "ipython3",
   "version": "3.9.1"
  }
 },
 "nbformat": 4,
 "nbformat_minor": 5
}
