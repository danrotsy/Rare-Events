{
 "cells": [
  {
   "cell_type": "code",
   "execution_count": 1,
   "id": "d557be2c",
   "metadata": {},
   "outputs": [],
   "source": [
    "%use krangl"
   ]
  },
  {
   "cell_type": "code",
   "execution_count": 36,
   "id": "05b27394",
   "metadata": {},
   "outputs": [],
   "source": [
    "var mc = DataFrame.readCSV(\"/Users/rotsy/Dropbox/caltech/senior/ids/198/Final Report/Data/mc.csv\")"
   ]
  },
  {
   "cell_type": "code",
   "execution_count": 37,
   "id": "9a81e07d",
   "metadata": {},
   "outputs": [],
   "source": [
    "mc.head()\n",
    "val newnames = mc[\"method\"].toStrings().mapNonNull { it.replace(\"polyreg\", \"poly\") }\n",
    "mc = mc.remove(\"method\")\n",
    "mc = mc.addColumn(\"method\"){newnames}"
   ]
  },
  {
   "cell_type": "code",
   "execution_count": 38,
   "id": "432b5b3b",
   "metadata": {},
   "outputs": [],
   "source": [
    "val rowSet = mc.remove(\"pFhat\").rows.toSet()\n",
    "val delta = rowSet.map { row ->\n",
    "    val others = mc.rows.filter {\n",
    "            it[\"gType\"] == row[\"gType\"] &&\n",
    "            it[\"gCalls\"] == row[\"gCalls\"] &&\n",
    "            it[\"method\"] == row[\"method\"] &&\n",
    "            it[\"dim\"] == row[\"dim\"] &&\n",
    "            it[\"pF\"] == row[\"pF\"]\n",
    "        }\n",
    "        .map { row ->\n",
    "            row[\"pFhat\"]!! as Double\n",
    "        }\n",
    "    val sd = sqrt(others.map { it - (row[\"pF\"] as Double) }\n",
    "        .map { it * it }\n",
    "        .sumOf { it } ) / others.size.toDouble()\n",
    "    sd / (row[\"pF\"] as Double)\n",
    "}\n",
    "var newdfmc = dataFrameOf(rowSet).addColumn(\"delta\"){ delta }"
   ]
  },
  {
   "cell_type": "code",
   "execution_count": 39,
   "id": "ae8bf16c",
   "metadata": {},
   "outputs": [],
   "source": [
    "import java.io.File\n",
    "newdfmc.writeCSV(File(\"mc_filtered.csv\"))"
   ]
  },
  {
   "cell_type": "code",
   "execution_count": 11,
   "id": "2ce36290",
   "metadata": {},
   "outputs": [],
   "source": [
    "var poly2 = DataFrame.readCSV(\"/Users/rotsy/Dropbox/caltech/senior/ids/198/Final Report/Data/polyreg2.csv\")"
   ]
  },
  {
   "cell_type": "code",
   "execution_count": 12,
   "id": "c0774cf2",
   "metadata": {},
   "outputs": [
    {
     "data": {
      "text/html": [
       "<html><body><table><tr><th style=\"text-align:left\">gType</th><th style=\"text-align:left\">gCalls</th><th style=\"text-align:left\">method</th><th style=\"text-align:left\">dim</th><th style=\"text-align:left\">pF</th><th style=\"text-align:left\">pFhat</th></tr><tr><td style=\"text-align:left\" title=\"brownian\">brownian</td><td style=\"text-align:left\" title=\"50\">50</td><td style=\"text-align:left\" title=\"poly d=2\">poly d=2</td><td style=\"text-align:left\" title=\"1\">1</td><td style=\"text-align:left\" title=\"0.1\">0.1</td><td style=\"text-align:left\" title=\"0.077\">0.077</td></tr><tr><td style=\"text-align:left\" title=\"brownian\">brownian</td><td style=\"text-align:left\" title=\"100\">100</td><td style=\"text-align:left\" title=\"poly d=2\">poly d=2</td><td style=\"text-align:left\" title=\"1\">1</td><td style=\"text-align:left\" title=\"0.1\">0.1</td><td style=\"text-align:left\" title=\"0.087\">0.087</td></tr><tr><td style=\"text-align:left\" title=\"brownian\">brownian</td><td style=\"text-align:left\" title=\"100\">100</td><td style=\"text-align:left\" title=\"poly d=2\">poly d=2</td><td style=\"text-align:left\" title=\"1\">1</td><td style=\"text-align:left\" title=\"0.05\">0.05</td><td style=\"text-align:left\" title=\"0.05\">0.05</td></tr><tr><td style=\"text-align:left\" title=\"brownian\">brownian</td><td style=\"text-align:left\" title=\"200\">200</td><td style=\"text-align:left\" title=\"poly d=2\">poly d=2</td><td style=\"text-align:left\" title=\"1\">1</td><td style=\"text-align:left\" title=\"0.05\">0.05</td><td style=\"text-align:left\" title=\"0.053\">0.053</td></tr><tr><td style=\"text-align:left\" title=\"brownian\">brownian</td><td style=\"text-align:left\" title=\"500\">500</td><td style=\"text-align:left\" title=\"poly d=2\">poly d=2</td><td style=\"text-align:left\" title=\"1\">1</td><td style=\"text-align:left\" title=\"0.01\">0.01</td><td style=\"text-align:left\" title=\"0.017\">0.017</td></tr></table></body></html>"
      ]
     },
     "execution_count": 12,
     "metadata": {},
     "output_type": "execute_result"
    }
   ],
   "source": [
    "poly2.head()"
   ]
  },
  {
   "cell_type": "code",
   "execution_count": 13,
   "id": "6de9f5c6",
   "metadata": {},
   "outputs": [],
   "source": [
    "val rowSet = poly2.remove(\"pFhat\").rows.toSet()\n",
    "val delta = rowSet.map { row ->\n",
    "    val others = poly2.rows.filter {\n",
    "            it[\"gType\"] == row[\"gType\"] &&\n",
    "            it[\"gCalls\"] == row[\"gCalls\"] &&\n",
    "            it[\"method\"] == row[\"method\"] &&\n",
    "            it[\"dim\"] == row[\"dim\"] &&\n",
    "            it[\"pF\"] == row[\"pF\"]\n",
    "        }\n",
    "        .map { row ->\n",
    "            row[\"pFhat\"]!! as Double\n",
    "        }\n",
    "    val sd = sqrt(others.map { it - (row[\"pF\"] as Double) }\n",
    "        .map { it * it }\n",
    "        .sumOf { it } ) / others.size.toDouble()\n",
    "    sd / (row[\"pF\"] as Double)\n",
    "}\n",
    "var newdfpoly2 = dataFrameOf(rowSet).addColumn(\"delta\"){ delta }"
   ]
  },
  {
   "cell_type": "code",
   "execution_count": 14,
   "id": "6cb0ccd1",
   "metadata": {},
   "outputs": [],
   "source": [
    "newdfpoly2.writeCSV(File(\"poly2_filtered.csv\"))"
   ]
  },
  {
   "cell_type": "code",
   "execution_count": 17,
   "id": "058ab545",
   "metadata": {},
   "outputs": [],
   "source": [
    "var poly3 = DataFrame.readCSV(\"/Users/rotsy/Dropbox/caltech/senior/ids/198/Final Report/Data/polyreg3.csv\")\n",
    "val rowSet = poly3.remove(\"pFhat\").rows.toSet()\n",
    "val delta = rowSet.map { row ->\n",
    "    val others = poly3.rows.filter {\n",
    "            it[\"gType\"] == row[\"gType\"] &&\n",
    "            it[\"gCalls\"] == row[\"gCalls\"] &&\n",
    "            it[\"method\"] == row[\"method\"] &&\n",
    "            it[\"dim\"] == row[\"dim\"] &&\n",
    "            it[\"pF\"] == row[\"pF\"]\n",
    "        }\n",
    "        .map { row ->\n",
    "            row[\"pFhat\"]!! as Double\n",
    "        }\n",
    "    val sd = sqrt(others.map { it - (row[\"pF\"] as Double) }\n",
    "        .map { it * it }\n",
    "        .sumOf { it } ) / others.size.toDouble()\n",
    "    sd / (row[\"pF\"] as Double)\n",
    "}\n",
    "var newdfpoly3 = dataFrameOf(rowSet).addColumn(\"delta\"){ delta }\n",
    "newdfpoly3.writeCSV(File(\"poly3_filtered.csv\"))"
   ]
  },
  {
   "cell_type": "code",
   "execution_count": 41,
   "id": "e0c2be9e",
   "metadata": {},
   "outputs": [],
   "source": [
    "var poly4 = DataFrame.readCSV(\"/Users/rotsy/Dropbox/caltech/senior/ids/198/Final Report/Data/polyreg4.csv\")\n",
    "val rowSet = poly4.remove(\"pFhat\").rows.toSet()\n",
    "val delta = rowSet.map { row ->\n",
    "    val others = poly4.rows.filter {\n",
    "            it[\"gType\"] == row[\"gType\"] &&\n",
    "            it[\"gCalls\"] == row[\"gCalls\"] &&\n",
    "            it[\"method\"] == row[\"method\"] &&\n",
    "            it[\"dim\"] == row[\"dim\"] &&\n",
    "            it[\"pF\"] == row[\"pF\"]\n",
    "        }\n",
    "        .map { row ->\n",
    "            row[\"pFhat\"]!! as Double\n",
    "        }\n",
    "    val sd = sqrt(others.map { it - (row[\"pF\"] as Double) }\n",
    "        .map { it * it }\n",
    "        .sumOf { it } ) / others.size.toDouble()\n",
    "    sd / (row[\"pF\"] as Double)\n",
    "}\n",
    "var newdfpoly4 = dataFrameOf(rowSet).addColumn(\"delta\"){ delta }\n",
    "newdfpoly4.writeCSV(File(\"poly4_filtered.csv\"))"
   ]
  },
  {
   "cell_type": "code",
   "execution_count": 22,
   "id": "8d185a20",
   "metadata": {},
   "outputs": [],
   "source": [
    "var svm = DataFrame.readCSV(\"/Users/rotsy/Dropbox/caltech/senior/ids/198/Final Report/Data/svm.csv\")\n",
    "val rowSet = svm.remove(\"pFhat\").rows.toSet()\n",
    "val delta = rowSet.map { row ->\n",
    "    val others = svm.rows.filter {\n",
    "            it[\"gType\"] == row[\"gType\"] &&\n",
    "            it[\"gCalls\"] == row[\"gCalls\"] &&\n",
    "            it[\"method\"] == row[\"method\"] &&\n",
    "            it[\"dim\"] == row[\"dim\"] &&\n",
    "            it[\"pF\"] == row[\"pF\"]\n",
    "        }\n",
    "        .map { row ->\n",
    "            row[\"pFhat\"]!! as Double\n",
    "        }\n",
    "    val sd = sqrt(others.map { it - (row[\"pF\"] as Double) }\n",
    "        .map { it * it }\n",
    "        .sumOf { it } ) / others.size.toDouble()\n",
    "    sd / (row[\"pF\"] as Double)\n",
    "}\n",
    "var newdfsvm = dataFrameOf(rowSet).addColumn(\"delta\"){ delta }\n",
    "newdfsvm.writeCSV(File(\"svm_filtered.csv\"))"
   ]
  },
  {
   "cell_type": "code",
   "execution_count": 23,
   "id": "cffe9245",
   "metadata": {},
   "outputs": [
    {
     "data": {
      "text/html": [
       "<html><body><table><tr><th style=\"text-align:left\">gType</th><th style=\"text-align:left\">gCalls</th><th style=\"text-align:left\">method</th><th style=\"text-align:left\">dim</th><th style=\"text-align:left\">pF</th><th style=\"text-align:left\">delta</th></tr><tr><td style=\"text-align:left\" title=\"brownian\">brownian</td><td style=\"text-align:left\" title=\"50\">50</td><td style=\"text-align:left\" title=\"svm\">svm</td><td style=\"text-align:left\" title=\"1\">1</td><td style=\"text-align:left\" title=\"0.1\">0.1</td><td style=\"text-align:left\" title=\"0.10873004286866726\">0.10873004286866726</td></tr><tr><td style=\"text-align:left\" title=\"brownian\">brownian</td><td style=\"text-align:left\" title=\"100\">100</td><td style=\"text-align:left\" title=\"svm\">svm</td><td style=\"text-align:left\" title=\"1\">1</td><td style=\"text-align:left\" title=\"0.1\">0.1</td><td style=\"text-align:left\" title=\"0.07295356209413097\">0.07295356209413097</td></tr><tr><td style=\"text-align:left\" title=\"brownian\">brownian</td><td style=\"text-align:left\" title=\"100\">100</td><td style=\"text-align:left\" title=\"svm\">svm</td><td style=\"text-align:left\" title=\"1\">1</td><td style=\"text-align:left\" title=\"0.05\">0.05</td><td style=\"text-align:left\" title=\"0.11195237082497776\">0.11195237082497776</td></tr><tr><td style=\"text-align:left\" title=\"brownian\">brownian</td><td style=\"text-align:left\" title=\"200\">200</td><td style=\"text-align:left\" title=\"svm\">svm</td><td style=\"text-align:left\" title=\"1\">1</td><td style=\"text-align:left\" title=\"0.05\">0.05</td><td style=\"text-align:left\" title=\"0.07888106377466154\">0.07888106377466154</td></tr><tr><td style=\"text-align:left\" title=\"brownian\">brownian</td><td style=\"text-align:left\" title=\"500\">500</td><td style=\"text-align:left\" title=\"svm\">svm</td><td style=\"text-align:left\" title=\"1\">1</td><td style=\"text-align:left\" title=\"0.01\">0.01</td><td style=\"text-align:left\" title=\"0.09404490653110588\">0.09404490653110588</td></tr></table></body></html>"
      ]
     },
     "execution_count": 23,
     "metadata": {},
     "output_type": "execute_result"
    }
   ],
   "source": [
    "newdfsvm.head()"
   ]
  },
  {
   "cell_type": "code",
   "execution_count": 31,
   "id": "3feaf1c6",
   "metadata": {},
   "outputs": [],
   "source": [
    "var rf = DataFrame.readCSV(\"/Users/rotsy/Dropbox/caltech/senior/ids/198/Final Report/Data/rf.csv\")\n",
    "val rowSet = rf.remove(\"pFhat\").rows.toSet()\n",
    "val delta = rowSet.map { row ->\n",
    "    val others = rf.rows.filter {\n",
    "            it[\"gType\"] == row[\"gType\"] &&\n",
    "            it[\"gCalls\"] == row[\"gCalls\"] &&\n",
    "            it[\"method\"] == row[\"method\"] &&\n",
    "            it[\"dim\"] == row[\"dim\"] &&\n",
    "            it[\"pF\"] == row[\"pF\"]\n",
    "        }\n",
    "        .map { row ->\n",
    "            row[\"pFhat\"]!! as Double\n",
    "        }\n",
    "    val sd = sqrt(others.map { it - (row[\"pF\"] as Double) }\n",
    "        .map { it * it }\n",
    "        .sumOf { it } ) / others.size.toDouble()\n",
    "    sd / (row[\"pF\"] as Double)\n",
    "}\n",
    "var newdfrf = dataFrameOf(rowSet).addColumn(\"delta\"){ delta }\n",
    "newdfrf.writeCSV(File(\"rf_filtered.csv\"))"
   ]
  },
  {
   "cell_type": "code",
   "execution_count": null,
   "id": "3aeb1adf",
   "metadata": {},
   "outputs": [],
   "source": []
  }
 ],
 "metadata": {
  "kernelspec": {
   "display_name": "Kotlin",
   "language": "kotlin",
   "name": "kotlin"
  },
  "language_info": {
   "codemirror_mode": "text/x-kotlin",
   "file_extension": ".kt",
   "mimetype": "text/x-kotlin",
   "name": "kotlin",
   "nbconvert_exporter": "",
   "pygments_lexer": "kotlin",
   "version": "1.5.30-dev-598"
  }
 },
 "nbformat": 4,
 "nbformat_minor": 5
}
